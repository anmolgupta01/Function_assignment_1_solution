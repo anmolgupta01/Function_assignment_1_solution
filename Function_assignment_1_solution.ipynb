{
 "cells": [
  {
   "cell_type": "markdown",
   "id": "9b34bf64",
   "metadata": {},
   "source": [
    "Q1. Which keyword is used to create a function? Create a function to return a list of odd numbers in the \n",
    "range of 1 to 25"
   ]
  },
  {
   "cell_type": "markdown",
   "id": "206428d9",
   "metadata": {},
   "source": [
    "ANSWER] def keyword is used to create a function."
   ]
  },
  {
   "cell_type": "code",
   "execution_count": 13,
   "id": "caea6959",
   "metadata": {},
   "outputs": [
    {
     "name": "stdout",
     "output_type": "stream",
     "text": [
      "[1, 3, 5, 7, 9, 11, 13, 15, 17, 19, 21, 23, 25]\n"
     ]
    }
   ],
   "source": [
    "#Create a function to return a list of odd numbers in the range of 1 to 25\n",
    "\n",
    "def odd_number( ):\n",
    "    odd_numbers = [num for num in range(1, 26) if num % 2 != 0]\n",
    "    return odd_numbers\n",
    "\n",
    "odd_numbers_list = odd_number()\n",
    "print(odd_numbers_list)"
   ]
  },
  {
   "cell_type": "markdown",
   "id": "a109b792",
   "metadata": {},
   "source": [
    "Q2. Why *args and **kwargs is used in some functions? Create a function each for *args and **kwargs \n",
    "to demonstrate their use."
   ]
  },
  {
   "cell_type": "markdown",
   "id": "cd937a9b",
   "metadata": {},
   "source": [
    "ANSWER] *args and **kwargs are used to pass a variable number of arguments to a function. They allow you to create functions that can accept a flexible number of positional and keyword arguments, respectively.\n",
    "\n",
    "*args is used to pass a variable number of positional arguments to a function. It collects extra positional arguments into a tuple.\n",
    "\n",
    "**kwargs is used to pass a variable number of keyword arguments to a function. It collects extra keyword arguments into a dictionary.\n",
    "\n",
    "EXAMPLE"
   ]
  },
  {
   "cell_type": "code",
   "execution_count": 14,
   "id": "68f63020",
   "metadata": {},
   "outputs": [
    {
     "name": "stdout",
     "output_type": "stream",
     "text": [
      "Sum: 15\n",
      "Person Information:\n",
      "name: John\n",
      "age: 30\n",
      "city: New York\n",
      "profession: Engineer\n"
     ]
    }
   ],
   "source": [
    "# Function that uses *args to calculate the sum of a variable number of numbers\n",
    "def sum_numbers(*args):\n",
    "    total = 0\n",
    "    for num in args:\n",
    "        total += num\n",
    "    return total\n",
    "\n",
    "result = sum_numbers(1, 2, 3, 4, 5)\n",
    "print(\"Sum:\", result)\n",
    "\n",
    "# Function that uses **kwargs to display information about a person\n",
    "\n",
    "def display_person_info(**kwargs):\n",
    "    print(\"Person Information:\")\n",
    "    for key, value in kwargs.items():\n",
    "        print(f\"{key}: {value}\")\n",
    "\n",
    "display_person_info(name=\"John\", age=30, city=\"New York\", profession=\"Engineer\")\n"
   ]
  },
  {
   "cell_type": "markdown",
   "id": "49d9ab56",
   "metadata": {},
   "source": [
    "Q3.  What is an iterator in python? Name the method used to initialise the iterator object and the method \n",
    "used for iteration. Use these methods to print the first five elements of the given list [2, 4, 6, 8, 10, 12, 14, \n",
    "16, 18, 20]."
   ]
  },
  {
   "cell_type": "markdown",
   "id": "7c0a19eb",
   "metadata": {},
   "source": [
    "ANSWER] An iterator is an object that implements the methods __iter__() and __next__() (or __iter__() and __getitem__(), depending on the iterator type), allowing you to iterate over elements of a container or a sequence, one at a time.\n",
    "\n",
    "The __iter__() method initializes the iterator object.\n",
    "The __next__() (or __getitem__()) method retrieves the next element in the sequence."
   ]
  },
  {
   "cell_type": "code",
   "execution_count": 35,
   "id": "205ab103",
   "metadata": {},
   "outputs": [
    {
     "name": "stdout",
     "output_type": "stream",
     "text": [
      "<list_iterator object at 0x00000200EB07E8C0>\n",
      "<list_iterator object at 0x00000200EB07E8C0>\n",
      "<list_iterator object at 0x00000200EB07E8C0>\n",
      "<list_iterator object at 0x00000200EB07E8C0>\n",
      "<list_iterator object at 0x00000200EB07E8C0>\n"
     ]
    }
   ],
   "source": [
    "#using iter for printing first five element\n",
    "l = [2, 4, 6, 8, 10, 12, 14, 16, 18, 20]\n",
    "\n",
    "iter_l = iter(l)\n",
    "for i in range(5):\n",
    "    print(iter_l)\n",
    "\n",
    "    "
   ]
  },
  {
   "cell_type": "code",
   "execution_count": 37,
   "id": "e65eb469",
   "metadata": {},
   "outputs": [
    {
     "name": "stdout",
     "output_type": "stream",
     "text": [
      "2\n",
      "4\n",
      "6\n",
      "8\n",
      "10\n"
     ]
    }
   ],
   "source": [
    "#using next for printing first five element\n",
    "l = [2, 4, 6, 8, 10, 12, 14, 16, 18, 20]\n",
    "\n",
    "iter_l = iter(l)\n",
    "for i in range(5):\n",
    "    print(next(iter_l))"
   ]
  },
  {
   "cell_type": "markdown",
   "id": "6e8596b8",
   "metadata": {},
   "source": [
    "Q4.  What is a generator function in python? Why yield keyword is used? Give an example of a generator \n",
    "function"
   ]
  },
  {
   "cell_type": "markdown",
   "id": "50e1d4f2",
   "metadata": {},
   "source": [
    "ANSWER] A generator function is a special type of function that returns an iterator called a generator. It allows US to create iterators in a more concise and memory-efficient way compared to using regular iterator classes. Generator functions use the yield keyword to yield values one at a time while maintaining the function's state between yields.\n",
    "\n",
    "The yield keyword is used in a generator function to produce a value that will be returned to the caller while temporarily pausing the function's execution. The function's state is preserved, allowing it to resume from where it left off when the generator's __next__() method is called again."
   ]
  },
  {
   "cell_type": "code",
   "execution_count": 42,
   "id": "a5f022da",
   "metadata": {},
   "outputs": [
    {
     "name": "stdout",
     "output_type": "stream",
     "text": [
      "0\n",
      "1\n",
      "4\n",
      "9\n",
      "16\n"
     ]
    }
   ],
   "source": [
    "def square_numbers(n):\n",
    "    for i in range(n):\n",
    "        yield i ** 2\n",
    "squares = square_numbers(5)\n",
    "for num in squares:\n",
    "    print(num)\n"
   ]
  },
  {
   "cell_type": "markdown",
   "id": "ae32dd04",
   "metadata": {},
   "source": [
    "Q5. Create a generator function for prime numbers less than 1000. Use the next() method to print the \n",
    "first 20 prime numbers."
   ]
  },
  {
   "cell_type": "code",
   "execution_count": 5,
   "id": "acfb8b41",
   "metadata": {},
   "outputs": [
    {
     "name": "stdout",
     "output_type": "stream",
     "text": [
      "2\n",
      "3\n",
      "5\n",
      "7\n",
      "11\n",
      "13\n",
      "17\n",
      "19\n",
      "23\n",
      "29\n",
      "31\n",
      "37\n",
      "41\n",
      "43\n",
      "47\n",
      "53\n",
      "59\n",
      "61\n",
      "67\n",
      "71\n"
     ]
    }
   ],
   "source": [
    "def is_prime(n):\n",
    "    if n <= 1:\n",
    "        return False\n",
    "    if n <= 3:\n",
    "        return True\n",
    "    if n % 2 == 0 or n % 3 == 0:\n",
    "        return False\n",
    "    \n",
    "    i = 5\n",
    "    while i * i <= n:\n",
    "        if n % i == 0 or n % (i + 2) == 0:\n",
    "            return False\n",
    "        i += 6\n",
    "    \n",
    "    return True\n",
    "\n",
    "def prime_generator(limit):\n",
    "    num = 2\n",
    "    while num < limit:\n",
    "        if is_prime(num):\n",
    "            yield num\n",
    "        num += 1\n",
    "\n",
    "# Create a prime number generator\n",
    "prime_gen = prime_generator(1000)\n",
    "\n",
    "# Print the first 20 prime numbers\n",
    "for _ in range(20):\n",
    "    print(next(prime_gen))\n"
   ]
  },
  {
   "cell_type": "markdown",
   "id": "63ad474a",
   "metadata": {},
   "source": [
    "Q6. Write a python program to print the first 10 Fibonacci numbers using a while loop."
   ]
  },
  {
   "cell_type": "code",
   "execution_count": 6,
   "id": "1d4c45e0",
   "metadata": {},
   "outputs": [
    {
     "name": "stdout",
     "output_type": "stream",
     "text": [
      "0\n",
      "1\n",
      "1\n",
      "2\n",
      "3\n",
      "5\n",
      "8\n",
      "13\n",
      "21\n",
      "34\n"
     ]
    }
   ],
   "source": [
    "def fibonacci_sequence(n):\n",
    "    fib_sequence = [0, 1]\n",
    "    while len(fib_sequence) < n:\n",
    "        next_fib = fib_sequence[-1] + fib_sequence[-2]\n",
    "        fib_sequence.append(next_fib)\n",
    "    return fib_sequence\n",
    "\n",
    "# Print the first 10 Fibonacci numbers\n",
    "fibonacci_numbers = fibonacci_sequence(10)\n",
    "for num in fibonacci_numbers:\n",
    "    print(num)\n"
   ]
  },
  {
   "cell_type": "markdown",
   "id": "b5e3d9fc",
   "metadata": {},
   "source": [
    "Q7. Write a List Comprehension to iterate through the given string: ‘pwskills’.\n",
    "\n",
    "Expected output: ['p', 'w', 's', 'k', 'i', 'l', 'l', 's']"
   ]
  },
  {
   "cell_type": "code",
   "execution_count": 13,
   "id": "dc42c44c",
   "metadata": {},
   "outputs": [
    {
     "name": "stdout",
     "output_type": "stream",
     "text": [
      "['p', 'w', 's', 'k', 'i', 'l', 'l', 's']\n"
     ]
    }
   ],
   "source": [
    "input_string = 'pwskills'\n",
    "output_list = [char for char in input_string if char in 'pwskil']\n",
    "print(output_list)\n"
   ]
  },
  {
   "cell_type": "markdown",
   "id": "8edd1efb",
   "metadata": {},
   "source": [
    "Q8. Write a python program to check whether a given number is Palindrome or not using a while loop."
   ]
  },
  {
   "cell_type": "code",
   "execution_count": 20,
   "id": "f444c205",
   "metadata": {},
   "outputs": [
    {
     "name": "stdout",
     "output_type": "stream",
     "text": [
      "Enter a number: 202\n",
      "202 is a palindrome.\n"
     ]
    }
   ],
   "source": [
    "def is_palindrome(number):\n",
    "    return str(number) == str(number)[::-1]\n",
    "num = int(input(\"Enter a number: \"))\n",
    "if is_palindrome(num):\n",
    "    print(f\"{num} is a palindrome.\")\n",
    "else:\n",
    "    print(f\"{num} is not a palindrome.\")\n"
   ]
  },
  {
   "cell_type": "markdown",
   "id": "858bb136",
   "metadata": {},
   "source": [
    "Q9. Write a code to print odd numbers from 1 to 100 using list comprehension."
   ]
  },
  {
   "cell_type": "code",
   "execution_count": 21,
   "id": "4e7d7151",
   "metadata": {},
   "outputs": [
    {
     "name": "stdout",
     "output_type": "stream",
     "text": [
      "[1, 3, 5, 7, 9, 11, 13, 15, 17, 19, 21, 23, 25, 27, 29, 31, 33, 35, 37, 39, 41, 43, 45, 47, 49, 51, 53, 55, 57, 59, 61, 63, 65, 67, 69, 71, 73, 75, 77, 79, 81, 83, 85, 87, 89, 91, 93, 95, 97, 99]\n"
     ]
    }
   ],
   "source": [
    "numbers = [num for num in range(1, 101)]\n",
    "odd_numbers = [num for num in numbers if num % 2 != 0]\n",
    "print(odd_numbers)"
   ]
  },
  {
   "cell_type": "code",
   "execution_count": null,
   "id": "16e63230",
   "metadata": {},
   "outputs": [],
   "source": []
  }
 ],
 "metadata": {
  "kernelspec": {
   "display_name": "Python 3 (ipykernel)",
   "language": "python",
   "name": "python3"
  },
  "language_info": {
   "codemirror_mode": {
    "name": "ipython",
    "version": 3
   },
   "file_extension": ".py",
   "mimetype": "text/x-python",
   "name": "python",
   "nbconvert_exporter": "python",
   "pygments_lexer": "ipython3",
   "version": "3.11.4"
  }
 },
 "nbformat": 4,
 "nbformat_minor": 5
}
